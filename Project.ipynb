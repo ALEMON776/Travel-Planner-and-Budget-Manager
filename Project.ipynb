{
  "nbformat": 4,
  "nbformat_minor": 0,
  "metadata": {
    "colab": {
      "provenance": []
    },
    "kernelspec": {
      "name": "python3",
      "display_name": "Python 3"
    },
    "language_info": {
      "name": "python"
    }
  },
  "cells": [
    {
      "cell_type": "code",
      "source": [
        "def inputData():\n",
        "  destination = input(\"Enter your travel destination: \")\n",
        "  start_date = input(\"Enter your travel start date (YYYY-MM-DD): \")\n",
        "  end_date = input(\"Enter your travel end date (YYYY-MM-DD): \")\n",
        "  Activities\n",
        "  activities = []\n",
        "  while True:\n",
        "    activity = input(\"Enter an activity (or type 'done'): \")\n",
        "    if activity.lower() == 'done':\n",
        "      break\n",
        "    activities.append(activity)\n",
        "\n",
        "  return {\n",
        "      \"destination\": destination,\n",
        "      \"start_date\": start_date,\n",
        "      \"end_date\": end_date,\n",
        "      \"activities\": activities\n",
        "  }\n"
      ],
      "metadata": {
        "id": "mFcFi2XYl8vj"
      },
      "execution_count": null,
      "outputs": []
    },
    {
      "cell_type": "code",
      "source": [
        "# prompt: allow user to create a travel itinerary. fields: start date, end date, activities, accommodation, transport\n",
        "\n",
        "def inputData():\n",
        "  destination = input(\"Enter your travel destination: \")\n",
        "  start_date = input(\"Enter your travel start date (YYYY-MM-DD): \")\n",
        "  end_date = input(\"Enter your travel end date (YYYY-MM-DD): \")\n",
        "  activities = []\n",
        "  while True:\n",
        "    activity = input(\"Enter an activity (or type 'done'): \")\n",
        "    if activity.lower() == 'done':\n",
        "      break\n",
        "    activities.append(activity)\n",
        "\n",
        "  accommodation = input(\"Enter your accommodation: \")\n",
        "  transport = input(\"Enter your transport: \")\n",
        "\n",
        "  return {\n",
        "      \"destination\": destination,\n",
        "      \"start_date\": start_date,\n",
        "      \"end_date\": end_date,\n",
        "      \"activities\": activities,\n",
        "      \"accommodation\": accommodation,\n",
        "      \"transport\": transport\n",
        "  }"
      ],
      "metadata": {
        "id": "HglNcpMjmldE"
      },
      "execution_count": null,
      "outputs": []
    },
    {
      "cell_type": "code",
      "source": [],
      "metadata": {
        "id": "foOQS7oCmmcT"
      },
      "execution_count": null,
      "outputs": []
    }
  ]
}